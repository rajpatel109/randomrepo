{
 "cells": [
  {
   "cell_type": "code",
   "execution_count": 1,
   "metadata": {},
   "outputs": [],
   "source": [
    "%matplotlib inline\n",
    "import pandas as pd\n",
    "import basketballCrawler.basketballCrawler as bc\n",
    "import matplotlib.pyplot as plt\n"
   ]
  },
  {
   "cell_type": "code",
   "execution_count": 2,
   "metadata": {},
   "outputs": [
    {
     "name": "stdout",
     "output_type": "stream",
     "text": [
      "Atlanta Hawks https://www.basketball-reference.com/teams/ATL/\n",
      "Boston Celtics https://www.basketball-reference.com/teams/BOS/\n",
      "Brooklyn Nets https://www.basketball-reference.com/teams/NJN/\n",
      "Charlotte Hornets https://www.basketball-reference.com/teams/CHA/\n",
      "Chicago Bulls https://www.basketball-reference.com/teams/CHI/\n",
      "Cleveland Cavaliers https://www.basketball-reference.com/teams/CLE/\n",
      "Dallas Mavericks https://www.basketball-reference.com/teams/DAL/\n",
      "Denver Nuggets https://www.basketball-reference.com/teams/DEN/\n",
      "Detroit Pistons https://www.basketball-reference.com/teams/DET/\n",
      "Golden State Warriors https://www.basketball-reference.com/teams/GSW/\n",
      "Houston Rockets https://www.basketball-reference.com/teams/HOU/\n",
      "Indiana Pacers https://www.basketball-reference.com/teams/IND/\n",
      "Los Angeles Clippers https://www.basketball-reference.com/teams/LAC/\n",
      "Los Angeles Lakers https://www.basketball-reference.com/teams/LAL/\n",
      "Memphis Grizzlies https://www.basketball-reference.com/teams/MEM/\n",
      "Miami Heat https://www.basketball-reference.com/teams/MIA/\n",
      "Milwaukee Bucks https://www.basketball-reference.com/teams/MIL/\n",
      "Minnesota Timberwolves https://www.basketball-reference.com/teams/MIN/\n",
      "New Orleans Pelicans https://www.basketball-reference.com/teams/NOH/\n",
      "New York Knicks https://www.basketball-reference.com/teams/NYK/\n",
      "Oklahoma City Thunder https://www.basketball-reference.com/teams/OKC/\n",
      "Orlando Magic https://www.basketball-reference.com/teams/ORL/\n",
      "Philadelphia 76ers https://www.basketball-reference.com/teams/PHI/\n",
      "Phoenix Suns https://www.basketball-reference.com/teams/PHO/\n",
      "Portland Trail Blazers https://www.basketball-reference.com/teams/POR/\n",
      "Sacramento Kings https://www.basketball-reference.com/teams/SAC/\n",
      "San Antonio Spurs https://www.basketball-reference.com/teams/SAS/\n",
      "Toronto Raptors https://www.basketball-reference.com/teams/TOR/\n",
      "Utah Jazz https://www.basketball-reference.com/teams/UTA/\n",
      "Washington Wizards https://www.basketball-reference.com/teams/WAS/\n"
     ]
    }
   ],
   "source": [
    "players = bc.getCurrentTeams()"
   ]
  },
  {
   "cell_type": "code",
   "execution_count": 3,
   "metadata": {},
   "outputs": [
    {
     "data": {
      "text/plain": [
       "{'Atlanta Hawks': <basketballCrawler.team.Team at 0x110bdf898>,\n",
       " 'Boston Celtics': <basketballCrawler.team.Team at 0x110b375c0>,\n",
       " 'Brooklyn Nets': <basketballCrawler.team.Team at 0x11efe0978>,\n",
       " 'Charlotte Hornets': <basketballCrawler.team.Team at 0x1205dec88>,\n",
       " 'Chicago Bulls': <basketballCrawler.team.Team at 0x120a40be0>,\n",
       " 'Cleveland Cavaliers': <basketballCrawler.team.Team at 0x120da5438>,\n",
       " 'Dallas Mavericks': <basketballCrawler.team.Team at 0x121029dd8>,\n",
       " 'Denver Nuggets': <basketballCrawler.team.Team at 0x1211c5ba8>,\n",
       " 'Detroit Pistons': <basketballCrawler.team.Team at 0x121a30f98>,\n",
       " 'Golden State Warriors': <basketballCrawler.team.Team at 0x121814550>,\n",
       " 'Houston Rockets': <basketballCrawler.team.Team at 0x121a3a748>,\n",
       " 'Indiana Pacers': <basketballCrawler.team.Team at 0x1211b6550>,\n",
       " 'Los Angeles Clippers': <basketballCrawler.team.Team at 0x121a3ab70>,\n",
       " 'Los Angeles Lakers': <basketballCrawler.team.Team at 0x1213c8908>,\n",
       " 'Memphis Grizzlies': <basketballCrawler.team.Team at 0x1206ab940>,\n",
       " 'Miami Heat': <basketballCrawler.team.Team at 0x120c54eb8>,\n",
       " 'Milwaukee Bucks': <basketballCrawler.team.Team at 0x120f75128>,\n",
       " 'Minnesota Timberwolves': <basketballCrawler.team.Team at 0x12149bda0>,\n",
       " 'New Orleans Pelicans': <basketballCrawler.team.Team at 0x120aea048>,\n",
       " 'New York Knicks': <basketballCrawler.team.Team at 0x120c43198>,\n",
       " 'Oklahoma City Thunder': <basketballCrawler.team.Team at 0x120aea4a8>,\n",
       " 'Orlando Magic': <basketballCrawler.team.Team at 0x121a3ab00>,\n",
       " 'Philadelphia 76ers': <basketballCrawler.team.Team at 0x120e57198>,\n",
       " 'Phoenix Suns': <basketballCrawler.team.Team at 0x120bc7a58>,\n",
       " 'Portland Trail Blazers': <basketballCrawler.team.Team at 0x1217f3b00>,\n",
       " 'Sacramento Kings': <basketballCrawler.team.Team at 0x120bba630>,\n",
       " 'San Antonio Spurs': <basketballCrawler.team.Team at 0x1208c9d30>,\n",
       " 'Toronto Raptors': <basketballCrawler.team.Team at 0x1211ac160>,\n",
       " 'Utah Jazz': <basketballCrawler.team.Team at 0x1208d1978>,\n",
       " 'Washington Wizards': <basketballCrawler.team.Team at 0x120a702e8>}"
      ]
     },
     "execution_count": 3,
     "metadata": {},
     "output_type": "execute_result"
    }
   ],
   "source": [
    "players"
   ]
  },
  {
   "cell_type": "code",
   "execution_count": 7,
   "metadata": {},
   "outputs": [
    {
     "data": {
      "text/plain": [
       "'Atlanta, Georgia'"
      ]
     },
     "execution_count": 7,
     "metadata": {},
     "output_type": "execute_result"
    }
   ],
   "source": [
    "players['Atlanta Hawks'].get_location()"
   ]
  },
  {
   "cell_type": "code",
   "execution_count": null,
   "metadata": {},
   "outputs": [],
   "source": []
  }
 ],
 "metadata": {
  "kernelspec": {
   "display_name": "Python 3",
   "language": "python",
   "name": "python3"
  },
  "language_info": {
   "codemirror_mode": {
    "name": "ipython",
    "version": 3
   },
   "file_extension": ".py",
   "mimetype": "text/x-python",
   "name": "python",
   "nbconvert_exporter": "python",
   "pygments_lexer": "ipython3",
   "version": "3.7.1"
  }
 },
 "nbformat": 4,
 "nbformat_minor": 2
}
